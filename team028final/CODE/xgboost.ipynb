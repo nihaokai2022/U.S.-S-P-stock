{
 "cells": [
  {
   "cell_type": "code",
   "execution_count": 1,
   "id": "602b525e",
   "metadata": {},
   "outputs": [],
   "source": [
    "import numpy as np\n",
    "import pandas as pd\n",
    "import matplotlib.pyplot as plt\n",
    "import seaborn as sns\n",
    "\n",
    "\n"
   ]
  },
  {
   "cell_type": "code",
   "execution_count": 3,
   "id": "f5b8d763",
   "metadata": {},
   "outputs": [],
   "source": [
    "df = pd.read_csv('data/history.csv')"
   ]
  },
  {
   "cell_type": "code",
   "execution_count": 4,
   "id": "df4a5527",
   "metadata": {},
   "outputs": [
    {
     "data": {
      "text/html": [
       "<div>\n",
       "<style scoped>\n",
       "    .dataframe tbody tr th:only-of-type {\n",
       "        vertical-align: middle;\n",
       "    }\n",
       "\n",
       "    .dataframe tbody tr th {\n",
       "        vertical-align: top;\n",
       "    }\n",
       "\n",
       "    .dataframe thead th {\n",
       "        text-align: right;\n",
       "    }\n",
       "</style>\n",
       "<table border=\"1\" class=\"dataframe\">\n",
       "  <thead>\n",
       "    <tr style=\"text-align: right;\">\n",
       "      <th></th>\n",
       "      <th>Date</th>\n",
       "      <th>Open</th>\n",
       "      <th>High</th>\n",
       "      <th>Low</th>\n",
       "      <th>Close</th>\n",
       "      <th>Adj Close</th>\n",
       "      <th>Volume</th>\n",
       "      <th>Symbol</th>\n",
       "    </tr>\n",
       "  </thead>\n",
       "  <tbody>\n",
       "    <tr>\n",
       "      <th>0</th>\n",
       "      <td>2008-01-29</td>\n",
       "      <td>9.50</td>\n",
       "      <td>9.99</td>\n",
       "      <td>8.57</td>\n",
       "      <td>8.75</td>\n",
       "      <td>0.702589</td>\n",
       "      <td>1489000</td>\n",
       "      <td>AACG</td>\n",
       "    </tr>\n",
       "    <tr>\n",
       "      <th>1</th>\n",
       "      <td>2008-01-30</td>\n",
       "      <td>8.75</td>\n",
       "      <td>9.15</td>\n",
       "      <td>8.30</td>\n",
       "      <td>8.50</td>\n",
       "      <td>0.682516</td>\n",
       "      <td>219000</td>\n",
       "      <td>AACG</td>\n",
       "    </tr>\n",
       "    <tr>\n",
       "      <th>2</th>\n",
       "      <td>2008-01-31</td>\n",
       "      <td>8.49</td>\n",
       "      <td>10.30</td>\n",
       "      <td>8.49</td>\n",
       "      <td>9.55</td>\n",
       "      <td>0.766826</td>\n",
       "      <td>182300</td>\n",
       "      <td>AACG</td>\n",
       "    </tr>\n",
       "    <tr>\n",
       "      <th>3</th>\n",
       "      <td>2008-02-01</td>\n",
       "      <td>9.93</td>\n",
       "      <td>9.94</td>\n",
       "      <td>9.50</td>\n",
       "      <td>9.51</td>\n",
       "      <td>0.763614</td>\n",
       "      <td>28200</td>\n",
       "      <td>AACG</td>\n",
       "    </tr>\n",
       "    <tr>\n",
       "      <th>4</th>\n",
       "      <td>2008-02-04</td>\n",
       "      <td>9.50</td>\n",
       "      <td>9.71</td>\n",
       "      <td>9.50</td>\n",
       "      <td>9.50</td>\n",
       "      <td>0.762811</td>\n",
       "      <td>8300</td>\n",
       "      <td>AACG</td>\n",
       "    </tr>\n",
       "  </tbody>\n",
       "</table>\n",
       "</div>"
      ],
      "text/plain": [
       "         Date  Open   High   Low  Close  Adj Close   Volume Symbol\n",
       "0  2008-01-29  9.50   9.99  8.57   8.75   0.702589  1489000   AACG\n",
       "1  2008-01-30  8.75   9.15  8.30   8.50   0.682516   219000   AACG\n",
       "2  2008-01-31  8.49  10.30  8.49   9.55   0.766826   182300   AACG\n",
       "3  2008-02-01  9.93   9.94  9.50   9.51   0.763614    28200   AACG\n",
       "4  2008-02-04  9.50   9.71  9.50   9.50   0.762811     8300   AACG"
      ]
     },
     "execution_count": 4,
     "metadata": {},
     "output_type": "execute_result"
    }
   ],
   "source": [
    "df.head(5)"
   ]
  },
  {
   "cell_type": "code",
   "execution_count": 6,
   "id": "d99cde73",
   "metadata": {},
   "outputs": [
    {
     "data": {
      "text/html": [
       "<div>\n",
       "<style scoped>\n",
       "    .dataframe tbody tr th:only-of-type {\n",
       "        vertical-align: middle;\n",
       "    }\n",
       "\n",
       "    .dataframe tbody tr th {\n",
       "        vertical-align: top;\n",
       "    }\n",
       "\n",
       "    .dataframe thead th {\n",
       "        text-align: right;\n",
       "    }\n",
       "</style>\n",
       "<table border=\"1\" class=\"dataframe\">\n",
       "  <thead>\n",
       "    <tr style=\"text-align: right;\">\n",
       "      <th></th>\n",
       "      <th>Symbol</th>\n",
       "      <th>Security</th>\n",
       "      <th>GICS Sector</th>\n",
       "      <th>GICS Sub-Industry</th>\n",
       "      <th>Headquarters Location</th>\n",
       "      <th>Date added</th>\n",
       "      <th>CIK</th>\n",
       "      <th>Founded</th>\n",
       "    </tr>\n",
       "  </thead>\n",
       "  <tbody>\n",
       "    <tr>\n",
       "      <th>0</th>\n",
       "      <td>MMM</td>\n",
       "      <td>3M</td>\n",
       "      <td>Industrials</td>\n",
       "      <td>Industrial Conglomerates</td>\n",
       "      <td>Saint Paul, Minnesota</td>\n",
       "      <td>1957-03-04</td>\n",
       "      <td>66740</td>\n",
       "      <td>1902</td>\n",
       "    </tr>\n",
       "    <tr>\n",
       "      <th>1</th>\n",
       "      <td>AOS</td>\n",
       "      <td>A. O. Smith</td>\n",
       "      <td>Industrials</td>\n",
       "      <td>Building Products</td>\n",
       "      <td>Milwaukee, Wisconsin</td>\n",
       "      <td>2017-07-26</td>\n",
       "      <td>91142</td>\n",
       "      <td>1916</td>\n",
       "    </tr>\n",
       "    <tr>\n",
       "      <th>2</th>\n",
       "      <td>ABT</td>\n",
       "      <td>Abbott Laboratories</td>\n",
       "      <td>Health Care</td>\n",
       "      <td>Health Care Equipment</td>\n",
       "      <td>North Chicago, Illinois</td>\n",
       "      <td>1957-03-04</td>\n",
       "      <td>1800</td>\n",
       "      <td>1888</td>\n",
       "    </tr>\n",
       "    <tr>\n",
       "      <th>3</th>\n",
       "      <td>ABBV</td>\n",
       "      <td>AbbVie</td>\n",
       "      <td>Health Care</td>\n",
       "      <td>Biotechnology</td>\n",
       "      <td>North Chicago, Illinois</td>\n",
       "      <td>2012-12-31</td>\n",
       "      <td>1551152</td>\n",
       "      <td>2013 (1888)</td>\n",
       "    </tr>\n",
       "    <tr>\n",
       "      <th>4</th>\n",
       "      <td>ACN</td>\n",
       "      <td>Accenture</td>\n",
       "      <td>Information Technology</td>\n",
       "      <td>IT Consulting &amp; Other Services</td>\n",
       "      <td>Dublin, Ireland</td>\n",
       "      <td>2011-07-06</td>\n",
       "      <td>1467373</td>\n",
       "      <td>1989</td>\n",
       "    </tr>\n",
       "  </tbody>\n",
       "</table>\n",
       "</div>"
      ],
      "text/plain": [
       "  Symbol             Security             GICS Sector  \\\n",
       "0    MMM                   3M             Industrials   \n",
       "1    AOS          A. O. Smith             Industrials   \n",
       "2    ABT  Abbott Laboratories             Health Care   \n",
       "3   ABBV               AbbVie             Health Care   \n",
       "4    ACN            Accenture  Information Technology   \n",
       "\n",
       "                GICS Sub-Industry    Headquarters Location  Date added  \\\n",
       "0        Industrial Conglomerates    Saint Paul, Minnesota  1957-03-04   \n",
       "1               Building Products     Milwaukee, Wisconsin  2017-07-26   \n",
       "2           Health Care Equipment  North Chicago, Illinois  1957-03-04   \n",
       "3                   Biotechnology  North Chicago, Illinois  2012-12-31   \n",
       "4  IT Consulting & Other Services          Dublin, Ireland  2011-07-06   \n",
       "\n",
       "       CIK      Founded  \n",
       "0    66740         1902  \n",
       "1    91142         1916  \n",
       "2     1800         1888  \n",
       "3  1551152  2013 (1888)  \n",
       "4  1467373         1989  "
      ]
     },
     "execution_count": 6,
     "metadata": {},
     "output_type": "execute_result"
    }
   ],
   "source": [
    "df_category=pd.read_csv('data/sp500_companies.csv')\n",
    "df_category.head(5)"
   ]
  },
  {
   "cell_type": "code",
   "execution_count": null,
   "id": "b098d97f",
   "metadata": {
    "scrolled": true
   },
   "outputs": [],
   "source": [
    "df_factors=pd.read_csv('data/fed_stock_data_preprocessed.csv')\n",
    "df_factors.head(5)"
   ]
  },
  {
   "cell_type": "code",
   "execution_count": null,
   "id": "b597788a",
   "metadata": {},
   "outputs": [],
   "source": [
    "df_factors.rename(columns={'Unnamed: 0':'Date'},inplace=True)"
   ]
  },
  {
   "cell_type": "code",
   "execution_count": null,
   "id": "b39321c4",
   "metadata": {},
   "outputs": [],
   "source": [
    "df_factors.head(5)"
   ]
  },
  {
   "cell_type": "code",
   "execution_count": null,
   "id": "d15f45e0",
   "metadata": {},
   "outputs": [],
   "source": [
    "df_category.rename(columns={'GICS Sector': 'Sector'}, inplace=True)\n",
    "df_category.head(5)"
   ]
  },
  {
   "cell_type": "code",
   "execution_count": null,
   "id": "d686bad0",
   "metadata": {},
   "outputs": [],
   "source": [
    "df_new = df.merge(df_category[['Symbol', 'Sector']], on='Symbol', how='left')\n"
   ]
  },
  {
   "cell_type": "code",
   "execution_count": null,
   "id": "0df5f9bc",
   "metadata": {},
   "outputs": [],
   "source": [
    "df_new.head(5)"
   ]
  },
  {
   "cell_type": "code",
   "execution_count": null,
   "id": "80039239",
   "metadata": {},
   "outputs": [],
   "source": [
    "df_update= df_new.dropna()"
   ]
  },
  {
   "cell_type": "code",
   "execution_count": null,
   "id": "3d1e5c56",
   "metadata": {},
   "outputs": [],
   "source": [
    "df_update.head()"
   ]
  },
  {
   "cell_type": "code",
   "execution_count": null,
   "id": "9e4db432",
   "metadata": {},
   "outputs": [],
   "source": [
    "start_date = '2010-01-01'\n",
    "end_date = '2024-12-31'\n",
    "\n",
    "df_filtered = df_update[(df_update['Date'] >= start_date) & (df_update['Date'] <= end_date)]"
   ]
  },
  {
   "cell_type": "code",
   "execution_count": null,
   "id": "a31f44f9",
   "metadata": {},
   "outputs": [],
   "source": [
    "df_filtered.head(501)"
   ]
  },
  {
   "cell_type": "code",
   "execution_count": null,
   "id": "a629a700",
   "metadata": {},
   "outputs": [],
   "source": [
    "df_filtered.tail()"
   ]
  },
  {
   "cell_type": "code",
   "execution_count": null,
   "id": "ca7d042e",
   "metadata": {},
   "outputs": [],
   "source": [
    "df_merged = pd.merge(df_filtered, df_factors, on='Date', how='left')"
   ]
  },
  {
   "cell_type": "code",
   "execution_count": null,
   "id": "55bc156a",
   "metadata": {},
   "outputs": [],
   "source": [
    "df_merged.head()"
   ]
  },
  {
   "cell_type": "code",
   "execution_count": null,
   "id": "14127be9",
   "metadata": {},
   "outputs": [],
   "source": [
    "df_clean=df_merged[['Open','Close','Sector','FedFundsRate', 'Treasury10Y', 'CPI', 'GDP','Unemployment','VIX']]\n",
    "df_clean.head()"
   ]
  },
  {
   "cell_type": "code",
   "execution_count": null,
   "id": "a5356802",
   "metadata": {},
   "outputs": [],
   "source": [
    "sectors = df_clean['Sector'].unique()\n",
    "\n",
    "# Plot heatmap for each sector\n",
    "for sector in sectors:\n",
    "    sector_df = df_clean[df_clean['Sector'] == sector]\n",
    "    corr = sector_df[['Close','Sector','FedFundsRate', 'Treasury10Y', 'CPI', 'GDP','Unemployment','VIX']].corr()\n",
    "\n",
    "    plt.figure(figsize=(8, 6))\n",
    "    sns.heatmap(corr, annot=True, cmap='coolwarm', fmt=\".2f\", linewidths=0.5)\n",
    "    plt.title(f\"Correlation Heatmap - Sector: {sector}\")\n",
    "    plt.tight_layout()\n",
    "    plt.show()\n"
   ]
  },
  {
   "cell_type": "code",
   "execution_count": null,
   "id": "75986721",
   "metadata": {},
   "outputs": [],
   "source": [
    "df_clean['Return'] = (df_clean['Close']-df_clean['Open'])/df_clean['Open']\n",
    "df_clean.head()"
   ]
  },
  {
   "cell_type": "code",
   "execution_count": null,
   "id": "1ff37ded",
   "metadata": {},
   "outputs": [],
   "source": [
    "from sklearn.model_selection import train_test_split\n",
    "\n",
    "\n",
    "features = ['FedFundsRate', 'Treasury10Y', 'CPI', 'GDP','Unemployment','VIX']\n",
    "df_model = df_clean.dropna(subset=features + ['Return'])\n",
    "\n",
    "# Binary classification: Up or Down\n",
    "df_model['target'] = (df_model['Return'] > 0).astype(int)\n",
    "\n",
    "X = df_model[features]\n",
    "y = df_model['target']\n",
    "\n",
    "X_train, X_test, y_train, y_test = train_test_split(X, y, test_size=0.2, shuffle=False)\n"
   ]
  },
  {
   "cell_type": "code",
   "execution_count": null,
   "id": "ff1b8bee",
   "metadata": {},
   "outputs": [],
   "source": [
    "from xgboost import XGBClassifier\n",
    "\n",
    "model = XGBClassifier()\n",
    "model.fit(X_train, y_train)"
   ]
  },
  {
   "cell_type": "code",
   "execution_count": null,
   "id": "aac7b0f6",
   "metadata": {},
   "outputs": [],
   "source": [
    "from sklearn.metrics import classification_report\n",
    "\n",
    "y_pred = model.predict(X_test)\n",
    "print(classification_report(y_test, y_pred))"
   ]
  },
  {
   "cell_type": "code",
   "execution_count": null,
   "id": "fa2edcf7",
   "metadata": {},
   "outputs": [],
   "source": [
    "df_clean['target'] = (df_clean['Return'] > 0).astype(int)\n",
    "\n",
    "sectors = df_clean['Sector'].dropna().unique()\n",
    "feature_cols = ['FedFundsRate', 'Treasury10Y', 'CPI', 'GDP','Unemployment','VIX']\n",
    "\n",
    "\n",
    "for sector in sectors:\n",
    "    print(f\"\\n📊 Sector: {sector}\")\n",
    "    \n",
    "    # Filter for sector and drop NaNs\n",
    "    df_sector = df_clean[df_clean['Sector'] == sector].dropna(subset=feature_cols + ['target'])\n",
    "\n",
    "    if len(df_sector) < 100:\n",
    "        print(\"  Skipping — not enough data.\")\n",
    "        continue\n",
    "\n",
    "    # Features and target\n",
    "    X = df_sector[feature_cols]\n",
    "    y = df_sector['target']\n",
    "\n",
    "    # Train/test split\n",
    "    X_train, X_test, y_train, y_test = train_test_split(X, y, test_size=0.2, shuffle=False)\n",
    "\n",
    "    # Train XGBoost model\n",
    "    model = XGBClassifier(use_label_encoder=False, eval_metric='logloss')\n",
    "    model.fit(X_train, y_train)\n",
    "\n",
    "    # Evaluation\n",
    "    y_pred = model.predict(X_test)\n",
    "    print(classification_report(y_test, y_pred))\n",
    "\n",
    "    # Feature importance plot\n",
    "    importance = model.feature_importances_\n",
    "    plt.figure(figsize=(6, 4))\n",
    "    plt.barh(feature_cols, importance)\n",
    "    plt.title(f\"Feature Importance — {sector}\")\n",
    "    plt.xlabel(\"Importance Score\")\n",
    "    plt.tight_layout()\n",
    "    plt.show()\n"
   ]
  },
  {
   "cell_type": "code",
   "execution_count": null,
   "id": "fb1e4147",
   "metadata": {},
   "outputs": [],
   "source": []
  },
  {
   "cell_type": "code",
   "execution_count": null,
   "id": "eea9ad63",
   "metadata": {},
   "outputs": [],
   "source": []
  },
  {
   "cell_type": "code",
   "execution_count": null,
   "id": "7ce7618f",
   "metadata": {},
   "outputs": [],
   "source": []
  },
  {
   "cell_type": "code",
   "execution_count": null,
   "id": "39642a7b",
   "metadata": {},
   "outputs": [],
   "source": []
  },
  {
   "cell_type": "code",
   "execution_count": null,
   "id": "0278b972",
   "metadata": {},
   "outputs": [],
   "source": []
  },
  {
   "cell_type": "code",
   "execution_count": null,
   "id": "661f3eb0",
   "metadata": {},
   "outputs": [],
   "source": []
  },
  {
   "cell_type": "code",
   "execution_count": null,
   "id": "6980633f",
   "metadata": {},
   "outputs": [],
   "source": []
  },
  {
   "cell_type": "code",
   "execution_count": null,
   "id": "5e79d2af",
   "metadata": {},
   "outputs": [],
   "source": []
  },
  {
   "cell_type": "code",
   "execution_count": null,
   "id": "5c93c425",
   "metadata": {},
   "outputs": [],
   "source": []
  }
 ],
 "metadata": {
  "kernelspec": {
   "display_name": "Python 3 (ipykernel)",
   "language": "python",
   "name": "python3"
  },
  "language_info": {
   "codemirror_mode": {
    "name": "ipython",
    "version": 3
   },
   "file_extension": ".py",
   "mimetype": "text/x-python",
   "name": "python",
   "nbconvert_exporter": "python",
   "pygments_lexer": "ipython3",
   "version": "3.9.13"
  }
 },
 "nbformat": 4,
 "nbformat_minor": 5
}
